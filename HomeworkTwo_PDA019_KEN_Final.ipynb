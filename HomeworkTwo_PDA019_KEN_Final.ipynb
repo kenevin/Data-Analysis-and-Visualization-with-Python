{
 "cells": [
  {
   "cell_type": "markdown",
   "metadata": {
    "internals": {
     "slide_helper": "subslide_end",
     "slide_type": "subslide"
    },
    "slide_helper": "slide_end",
    "slideshow": {
     "slide_type": "slide"
    }
   },
   "source": [
    "# Part1: Class"
   ]
  },
  {
   "cell_type": "code",
   "execution_count": null,
   "metadata": {
    "collapsed": true,
    "internals": {
     "slide_type": "subslide"
    },
    "slideshow": {
     "slide_type": "slide"
    }
   },
   "outputs": [],
   "source": [
    "(1) Define a new class named **Coordinate**, which is used to represent a  2D coordinate system. Initialize two instance variables, *x* and *y*, in your constructor method."
   ]
  },
  {
   "cell_type": "code",
   "execution_count": 1,
   "metadata": {
    "collapsed": false,
    "internals": {},
    "slideshow": {
     "slide_type": "-"
    }
   },
   "outputs": [],
   "source": [
    "### write your code here\n",
    "# Everything in python is an object\n",
    "# Object is a class and has a class definition\n",
    "# Coordinate inherits from class object\n",
    "# self \n",
    "\n",
    "class Coordinate(object):\n",
    "    def __init__(self, x, y):\n",
    "        self.x = x\n",
    "        self.y = y"
   ]
  },
  {
   "cell_type": "markdown",
   "metadata": {
    "internals": {},
    "slideshow": {
     "slide_type": "-"
    }
   },
   "source": [
    "Here are some tests:"
   ]
  },
  {
   "cell_type": "code",
   "execution_count": 2,
   "metadata": {
    "collapsed": false
   },
   "outputs": [
    {
     "name": "stdout",
     "output_type": "stream",
     "text": [
      "-5\n",
      "15\n"
     ]
    }
   ],
   "source": [
    "coor1 = Coordinate(-5, 15)\n",
    "# Here we are constructing a Coordinate object with the parameters -5 and 15 in the X and Y positions.\n",
    "# Before it is coor1, it is an anonymous thing in memory.\n",
    "# So we are saying, make this coordinate size space and we'll refer to that as \"self\"\n",
    "# self is a way to refer to this object in general\n",
    "\n",
    "print coor1.x\n",
    "print coor1.y"
   ]
  },
  {
   "cell_type": "code",
   "execution_count": 3,
   "metadata": {
    "collapsed": false,
    "internals": {},
    "slideshow": {
     "slide_type": "-"
    }
   },
   "outputs": [
    {
     "name": "stdout",
     "output_type": "stream",
     "text": [
      "2\n",
      "3\n"
     ]
    }
   ],
   "source": [
    "coor1 = Coordinate(2, 3)\n",
    "print coor1.x # 2\n",
    "print coor1.y # 3"
   ]
  },
  {
   "cell_type": "code",
   "execution_count": 4,
   "metadata": {
    "collapsed": false,
    "internals": {
     "slide_helper": "subslide_end"
    },
    "slide_helper": "slide_end",
    "slideshow": {
     "slide_type": "-"
    }
   },
   "outputs": [
    {
     "name": "stdout",
     "output_type": "stream",
     "text": [
      "-5\n",
      "15\n"
     ]
    }
   ],
   "source": [
    "coor1 = Coordinate(-5, 15)\n",
    "print coor1.x # -5\n",
    "print coor1.y # 15"
   ]
  },
  {
   "cell_type": "markdown",
   "metadata": {
    "internals": {
     "slide_type": "subslide"
    },
    "slideshow": {
     "slide_type": "slide"
    }
   },
   "source": [
    "(2) Add two getter methods to the class **Coordinate**:\n",
    "    - getX(): return the instance variable, *x*\n",
    "    - getY(): return the instance variable, *y*."
   ]
  },
  {
   "cell_type": "code",
   "execution_count": 5,
   "metadata": {
    "collapsed": false,
    "internals": {},
    "slideshow": {
     "slide_type": "-"
    }
   },
   "outputs": [],
   "source": [
    "### write your code here\n",
    "\n",
    "# Getters retrieve data\n",
    "# Setters change data\n",
    "# We do this because sometimes we want data to be private\n",
    "# You can use getters and setters instead of modifying the instance variable\n",
    "\n",
    "class Coordinate(object):\n",
    "    def __init__(self, x, y):\n",
    "        self.x = x\n",
    "        self.y = y\n",
    "    def getX(self):\n",
    "        return self.x\n",
    "    def getY(self):\n",
    "        return self.y"
   ]
  },
  {
   "cell_type": "markdown",
   "metadata": {
    "internals": {},
    "slideshow": {
     "slide_type": "-"
    }
   },
   "source": [
    "Here are some tests:"
   ]
  },
  {
   "cell_type": "code",
   "execution_count": 6,
   "metadata": {
    "collapsed": false
   },
   "outputs": [
    {
     "name": "stdout",
     "output_type": "stream",
     "text": [
      "<__main__.Coordinate object at 0x10384c1d0>\n",
      "-5\n",
      "15\n"
     ]
    }
   ],
   "source": [
    "coor1 = Coordinate(-5, 15)\n",
    "print coor1\n",
    "print coor1.getX()\n",
    "print coor1.getY()"
   ]
  },
  {
   "cell_type": "code",
   "execution_count": 7,
   "metadata": {
    "collapsed": false,
    "internals": {},
    "slideshow": {
     "slide_type": "-"
    }
   },
   "outputs": [
    {
     "name": "stdout",
     "output_type": "stream",
     "text": [
      "2\n",
      "3\n"
     ]
    }
   ],
   "source": [
    "coor1 = Coordinate(2, 3)\n",
    "print coor1.getX() # 2\n",
    "print coor1.getY() # 3"
   ]
  },
  {
   "cell_type": "code",
   "execution_count": 8,
   "metadata": {
    "collapsed": false,
    "internals": {
     "slide_helper": "subslide_end"
    },
    "slide_helper": "slide_end",
    "slideshow": {
     "slide_type": "-"
    }
   },
   "outputs": [
    {
     "name": "stdout",
     "output_type": "stream",
     "text": [
      "-5\n",
      "15\n"
     ]
    }
   ],
   "source": [
    "coor1 = Coordinate(-5, 15)\n",
    "print coor1.getX() # -5\n",
    "print coor1.getY() # 15"
   ]
  },
  {
   "cell_type": "markdown",
   "metadata": {
    "internals": {
     "slide_type": "subslide"
    },
    "slideshow": {
     "slide_type": "slide"
    }
   },
   "source": [
    "(3) Add a `__str__` method for your **Coordinate** class, which tells Python to represent a Coordinate object as a string by listing its *x* and *y* instance variables like so: **x, y**"
   ]
  },
  {
   "cell_type": "code",
   "execution_count": 11,
   "metadata": {
    "collapsed": false,
    "internals": {},
    "slideshow": {
     "slide_type": "-"
    }
   },
   "outputs": [],
   "source": [
    "### write your code here\n",
    "class Coordinate(object):\n",
    "    def __init__(self, x, y):\n",
    "        self.x = x\n",
    "        self.y = y\n",
    "    def getX(self):\n",
    "        return self.x\n",
    "    def getY(self):\n",
    "        return self.y\n",
    "    def __str__(self):\n",
    "#        return '<%s,%s>' %(self.x, self.y)\n",
    "        return str(self.x) + \",\" + str(self.y) #another way to do this where we are overloading the \"+\" operator"
   ]
  },
  {
   "cell_type": "markdown",
   "metadata": {
    "internals": {},
    "slideshow": {
     "slide_type": "-"
    }
   },
   "source": [
    "Here are some tests:"
   ]
  },
  {
   "cell_type": "code",
   "execution_count": 12,
   "metadata": {
    "collapsed": false
   },
   "outputs": [
    {
     "name": "stdout",
     "output_type": "stream",
     "text": [
      "-5,15\n"
     ]
    },
    {
     "data": {
      "text/plain": [
       "__main__.Coordinate"
      ]
     },
     "execution_count": 12,
     "metadata": {},
     "output_type": "execute_result"
    }
   ],
   "source": [
    "coor1 = Coordinate(-5, 15)\n",
    "print coor1\n",
    "type(coor1)"
   ]
  },
  {
   "cell_type": "code",
   "execution_count": 13,
   "metadata": {
    "collapsed": false,
    "internals": {},
    "slideshow": {
     "slide_type": "-"
    }
   },
   "outputs": [
    {
     "name": "stdout",
     "output_type": "stream",
     "text": [
      "2,3\n"
     ]
    }
   ],
   "source": [
    "coor1 = Coordinate(2, 3)\n",
    "print coor1 # <2,3>"
   ]
  },
  {
   "cell_type": "code",
   "execution_count": 14,
   "metadata": {
    "collapsed": false,
    "internals": {
     "slide_helper": "subslide_end"
    },
    "slide_helper": "slide_end",
    "slideshow": {
     "slide_type": "-"
    }
   },
   "outputs": [
    {
     "name": "stdout",
     "output_type": "stream",
     "text": [
      "-5,15\n"
     ]
    }
   ],
   "source": [
    "coor2 = Coordinate(-5, 15)\n",
    "print coor2 # <-5,15>"
   ]
  },
  {
   "cell_type": "markdown",
   "metadata": {
    "internals": {
     "slide_type": "subslide"
    },
    "slideshow": {
     "slide_type": "slide"
    }
   },
   "source": [
    "(4) Add an `__eq__` instance method to your Coordinate class. Given two Coordinate objects, your function should return `True` if their *x* and *y* instance variables are equal; otherwise it should return `False`."
   ]
  },
  {
   "cell_type": "code",
   "execution_count": 17,
   "metadata": {
    "collapsed": false,
    "internals": {},
    "slideshow": {
     "slide_type": "-"
    }
   },
   "outputs": [],
   "source": [
    "### write your code here\n",
    "class Coordinate(object):\n",
    "    def __init__(self, x, y):\n",
    "        self.x = x\n",
    "        self.y = y\n",
    "    def getX(self):\n",
    "        return self.x\n",
    "    def getY(self):\n",
    "        return self.y\n",
    "    def __str__(self):\n",
    "        return '<%s,%s>' %(self.x, self.y)\n",
    "    def __eq__(self, other):\n",
    "        return self.x == other.x and self.y == other.y # This is an example of duck typing."
   ]
  },
  {
   "cell_type": "markdown",
   "metadata": {
    "internals": {},
    "slideshow": {
     "slide_type": "-"
    }
   },
   "source": [
    "Here are some tests:"
   ]
  },
  {
   "cell_type": "code",
   "execution_count": 24,
   "metadata": {
    "collapsed": false
   },
   "outputs": [
    {
     "name": "stdout",
     "output_type": "stream",
     "text": [
      "False\n",
      "True\n",
      "False\n",
      "True\n",
      "False\n"
     ]
    }
   ],
   "source": [
    "coor1 = Coordinate(2,3)\n",
    "coor2 = Coordinate(-5, 15)\n",
    "coor3 = Coordinate(2.0, 3)\n",
    "coor4 = Coordinate(-5, 15.0)\n",
    "print coor1.__eq__(coor2)\n",
    "print coor1.__eq__(coor3)\n",
    "print coor2.__eq__(coor3)\n",
    "print coor2.__eq__(coor4)\n",
    "print coor1.__eq__(coor4)"
   ]
  },
  {
   "cell_type": "code",
   "execution_count": 25,
   "metadata": {
    "collapsed": false
   },
   "outputs": [
    {
     "name": "stdout",
     "output_type": "stream",
     "text": [
      "False\n",
      "True\n",
      "False\n",
      "True\n",
      "False\n"
     ]
    }
   ],
   "source": [
    "coor1 = Coordinate(2, 3)\n",
    "coor2 = Coordinate(-5, 15)\n",
    "coor3 = Coordinate(2.0, 3)\n",
    "coor4 = Coordinate(-5, 15.0)\n",
    "\n",
    "coor1.x == coor3.x and coor1.y == coor3.y\n",
    "\n",
    "print coor1 == coor2 # False\n",
    "print coor1 == coor3 # True\n",
    "print coor2 == coor3 # False\n",
    "print coor2 == coor4 # True\n",
    "print coor1 == coor4 # False\n",
    "\n",
    "# TRY TO UNDERSTAND WHY THESE ARE FALSE BEFORE OVERRIDING THE == FUNCTION"
   ]
  },
  {
   "cell_type": "code",
   "execution_count": 26,
   "metadata": {
    "collapsed": true
   },
   "outputs": [],
   "source": [
    "# Duck Typing\n",
    "# Allows us to be casual about how use certain expressions like \"==\" and \"+\" when they are defined in a class. "
   ]
  },
  {
   "cell_type": "code",
   "execution_count": 27,
   "metadata": {
    "collapsed": false,
    "internals": {},
    "slideshow": {
     "slide_type": "-"
    }
   },
   "outputs": [
    {
     "name": "stdout",
     "output_type": "stream",
     "text": [
      "False\n",
      "True\n",
      "False\n",
      "True\n",
      "False\n"
     ]
    }
   ],
   "source": [
    "coor1 = Coordinate(2, 3)\n",
    "coor2 = Coordinate(-5, 15)\n",
    "coor3 = Coordinate(2.0, 3)\n",
    "coor4 = Coordinate(-5, 15.0)\n",
    "print coor1.__eq__(coor2) # False\n",
    "print coor1.__eq__(coor3) # True\n",
    "print coor2.__eq__(coor3) # False\n",
    "print coor2.__eq__(coor4) # True\n",
    "print coor1.__eq__(coor4) # False"
   ]
  },
  {
   "cell_type": "markdown",
   "metadata": {
    "internals": {},
    "slideshow": {
     "slide_type": "-"
    }
   },
   "source": [
    "Given two Coordinate objects, `obj1` and `obj2`, *`obj1.__eq__(obj2)`* is equivalent to *`obj1 == obj2`*. Remember that instance methods whose names begin and end with double underscores are special methods that are seldom called explicitly.\n",
    "\n",
    "When printing an object, the `__str__` instance method is called. When `==` is used to compare two objects, the `__eq__` method is called.\n",
    "\n",
    "So the following code returns exactly the same results."
   ]
  },
  {
   "cell_type": "code",
   "execution_count": 28,
   "metadata": {
    "collapsed": false,
    "internals": {
     "slide_helper": "subslide_end"
    },
    "slide_helper": "slide_end",
    "slideshow": {
     "slide_type": "-"
    }
   },
   "outputs": [
    {
     "name": "stdout",
     "output_type": "stream",
     "text": [
      "False\n",
      "True\n",
      "False\n",
      "True\n",
      "False\n"
     ]
    }
   ],
   "source": [
    "print coor1 == coor2 # False\n",
    "print coor1 == coor3 # True\n",
    "print coor2 == coor3 # False\n",
    "print coor2 == coor4 # True\n",
    "print coor1 == coor4 # False\n",
    "\n",
    "# We overrode the meaning of == with our __eq__ method."
   ]
  },
  {
   "cell_type": "markdown",
   "metadata": {
    "internals": {
     "slide_type": "subslide"
    },
    "slideshow": {
     "slide_type": "slide"
    }
   },
   "source": [
    "(5) Add a `__add__` method to your Coordinate class. Given two Coordinate objects, `obj1` and `obj2`, `obj1.__add__(obj2)` should return a new Coordinate object whose x instance variable is the sum of `obj1.x` and `obj2.x`. Similarly, its y instance variable should be the sum of `obj1.y` and `obj2.y`."
   ]
  },
  {
   "cell_type": "code",
   "execution_count": 29,
   "metadata": {
    "collapsed": false,
    "internals": {},
    "slideshow": {
     "slide_type": "-"
    }
   },
   "outputs": [],
   "source": [
    "### write your code here\n",
    "class Coordinate(object):\n",
    "    def __init__(self, x, y):\n",
    "        self.x = x\n",
    "        self.y = y\n",
    "    def getX(self):\n",
    "        return self.x\n",
    "    def getY(self):\n",
    "        return self.y\n",
    "    def __str__(self):\n",
    "        return '<%s,%s>' %(self.x, self.y)\n",
    "    def __eq__(self, other):\n",
    "        return self.x == other.x and self.y == other.y\n",
    "    def __add__(self, other):\n",
    "        return Coordinate(self.x + other.x, self.y + other.y)\n",
    "        "
   ]
  },
  {
   "cell_type": "markdown",
   "metadata": {
    "internals": {},
    "slideshow": {
     "slide_type": "-"
    }
   },
   "source": [
    "Here are some tests:"
   ]
  },
  {
   "cell_type": "code",
   "execution_count": 30,
   "metadata": {
    "collapsed": false,
    "scrolled": true
   },
   "outputs": [
    {
     "name": "stdout",
     "output_type": "stream",
     "text": [
      "<class '__main__.Coordinate'>\n",
      "True\n",
      "-3\n",
      "18\n",
      "<-3,18>\n",
      "<2,3>\n"
     ]
    }
   ],
   "source": [
    "coor1 = Coordinate(2,3)\n",
    "coor2 = Coordinate(-5, 15)\n",
    "coor3 = coor1.__add__(coor2)\n",
    "print type(coor3)\n",
    "print isinstance(coor3, Coordinate)\n",
    "print coor3.x\n",
    "print coor3.y\n",
    "print coor3\n",
    "print coor1"
   ]
  },
  {
   "cell_type": "code",
   "execution_count": 31,
   "metadata": {
    "collapsed": false,
    "internals": {},
    "slideshow": {
     "slide_type": "-"
    }
   },
   "outputs": [
    {
     "name": "stdout",
     "output_type": "stream",
     "text": [
      "<class '__main__.Coordinate'>\n",
      "True\n",
      "-3\n",
      "18\n",
      "<-3,18>\n",
      "<-3,18>\n"
     ]
    }
   ],
   "source": [
    "coor1 = Coordinate(2, 3)\n",
    "coor2 = Coordinate(-5, 15)\n",
    "coor3 = coor1.__add__(coor2)\n",
    "print type(coor3) # Coordinate\n",
    "print isinstance(coor3, Coordinate) # True\n",
    "print coor3.x # -3\n",
    "print coor3.y # 18\n",
    "print coor3   # <-3,18>\n",
    "print coor1 + coor2"
   ]
  },
  {
   "cell_type": "markdown",
   "metadata": {
    "internals": {},
    "slideshow": {
     "slide_type": "-"
    }
   },
   "source": [
    "When the `+` operator is used to add two objects, the `__add__` method is called. So, `coor3 = coor1 + coor2` is equivalent to `coor3 = coor1.__add__(coor2)`"
   ]
  },
  {
   "cell_type": "code",
   "execution_count": 32,
   "metadata": {
    "collapsed": false,
    "internals": {
     "slide_helper": "subslide_end"
    },
    "slide_helper": "slide_end",
    "slideshow": {
     "slide_type": "-"
    }
   },
   "outputs": [
    {
     "name": "stdout",
     "output_type": "stream",
     "text": [
      "<class '__main__.Coordinate'>\n",
      "True\n",
      "-3\n",
      "18\n",
      "<-3,18>\n"
     ]
    }
   ],
   "source": [
    "coor3 = coor1 + coor2\n",
    "print type(coor3) # Coordinate\n",
    "print isinstance(coor3, Coordinate) # True\n",
    "print coor3.x # -3\n",
    "print coor3.y # 18\n",
    "print coor3   # <-3,18>"
   ]
  },
  {
   "cell_type": "markdown",
   "metadata": {},
   "source": [
    "# PART II: Dictionary Comprehensions"
   ]
  },
  {
   "cell_type": "markdown",
   "metadata": {},
   "source": [
    "Write a dictionary comprehension that maps each uppercase English letter onto its lowercase equivalent.\n",
    "\n",
    "**HINT:**\n",
    "To get a list of uppercase letters, try:\n",
    "\n",
    "**import string**\n",
    "\n",
    "**upLetters = string.ascii_uppercase**\n",
    "\n",
    "For lowercase letters, try:\n",
    "\n",
    "**lowLetters = string.ascii_lowercase**\n",
    "\n",
    "Your result should be a dictionary of the form: **{\"A\":\"a\", \"B\":\"b\", \"C\":\"c\", ...}**"
   ]
  },
  {
   "cell_type": "code",
   "execution_count": 35,
   "metadata": {
    "collapsed": false
   },
   "outputs": [
    {
     "name": "stdout",
     "output_type": "stream",
     "text": [
      "{'A': 'a', 'C': 'c', 'B': 'b', 'E': 'e', 'D': 'd', 'G': 'g', 'F': 'f', 'I': 'i', 'H': 'h', 'K': 'k', 'J': 'j', 'M': 'm', 'L': 'l', 'O': 'o', 'N': 'n', 'Q': 'q', 'P': 'p', 'S': 's', 'R': 'r', 'U': 'u', 'T': 't', 'W': 'w', 'V': 'v', 'Y': 'y', 'X': 'x', 'Z': 'z'}\n",
      "{'A': 'a', 'C': 'c', 'B': 'b', 'E': 'e', 'D': 'd', 'G': 'g', 'F': 'f', 'I': 'i', 'H': 'h', 'K': 'k', 'J': 'j', 'M': 'm', 'L': 'l', 'O': 'o', 'N': 'n', 'Q': 'q', 'P': 'p', 'S': 's', 'R': 'r', 'U': 'u', 'T': 't', 'W': 'w', 'V': 'v', 'Y': 'y', 'X': 'x', 'Z': 'z'}\n"
     ]
    }
   ],
   "source": [
    "### write your code here\n",
    "import string\n",
    "upLetters = string.ascii_uppercase\n",
    "lowLetters = string.ascii_lowercase\n",
    "\n",
    "dict1 = {upLetters[i]:lowLetters[i] for i in range(0, len(upLetters))}\n",
    "dict2 = {i:i.lower() for i in upLetters}\n",
    "print dict1\n",
    "print dict2"
   ]
  },
  {
   "cell_type": "markdown",
   "metadata": {},
   "source": [
    "# BONUS: Recursion"
   ]
  },
  {
   "cell_type": "markdown",
   "metadata": {},
   "source": [
    "Implement your binary search function from Homework 1 using recursion. A recursive function calls itself at least once."
   ]
  },
  {
   "cell_type": "code",
   "execution_count": 40,
   "metadata": {
    "collapsed": true
   },
   "outputs": [],
   "source": [
    "def binarySearchIter2(theFun, start, end, eps): # Recursions require base cases!\n",
    "    theMiddle = (start + end)/2.0\n",
    "    if abs(theFun(theMiddle))>eps:\n",
    "        if theFun(theMiddle)*theFun(start)>0:\n",
    "            return binarySearchIter2(theFun, theMiddle, end, eps)\n",
    "        else:\n",
    "            return binarySearchIter2(theFun, start, theMiddle, eps)\n",
    "    else:\n",
    "        return theMiddle"
   ]
  },
  {
   "cell_type": "code",
   "execution_count": 41,
   "metadata": {
    "collapsed": true
   },
   "outputs": [],
   "source": [
    "def binarySearchIter3(theFun, start, end, eps): # Recursions require base cases!\n",
    "    theMiddle = (start + end)/2.0\n",
    "    if abs(theFun(theMiddle))<=eps:\n",
    "        return theMiddle\n",
    "    else:\n",
    "        if theFun(theMiddle)*theFun(start)>0:\n",
    "            start = theMiddle\n",
    "        else:\n",
    "            end = theMiddle\n",
    "        return binarySearchIter3(theFun, start, end, eps)"
   ]
  },
  {
   "cell_type": "code",
   "execution_count": 42,
   "metadata": {
    "collapsed": false
   },
   "outputs": [
    {
     "name": "stdout",
     "output_type": "stream",
     "text": [
      "-1.41421356238\n",
      "-1.41421356238\n"
     ]
    }
   ],
   "source": [
    "def f(x):\n",
    "    return x **2 - 2\n",
    "\n",
    "#print binarySearchIter(f, -3, 0, eps = 1e-10) # If I change the end range to 10, I get an error that the maximum recursion has been reached. Why is this?\n",
    "print binarySearchIter2(f, -3, 0, eps = 1e-10)\n",
    "print binarySearchIter3(f, -3, 0, eps = 1e-10)"
   ]
  }
 ],
 "metadata": {
  "kernelspec": {
   "display_name": "Python 2",
   "language": "python",
   "name": "python2"
  },
  "language_info": {
   "codemirror_mode": {
    "name": "ipython",
    "version": 2
   },
   "file_extension": ".py",
   "mimetype": "text/x-python",
   "name": "python",
   "nbconvert_exporter": "python",
   "pygments_lexer": "ipython2",
   "version": "2.7.12"
  }
 },
 "nbformat": 4,
 "nbformat_minor": 0
}
