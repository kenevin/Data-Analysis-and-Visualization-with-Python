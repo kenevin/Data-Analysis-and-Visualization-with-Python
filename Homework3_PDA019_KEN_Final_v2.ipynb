{
 "cells": [
  {
   "cell_type": "markdown",
   "metadata": {},
   "source": [
    "# Part 1: RegEx"
   ]
  },
  {
   "cell_type": "markdown",
   "metadata": {},
   "source": [
    "(1) Write a function, **matchAll(pattern, listOstrings)**. Assume **pattern** argument will be a regular expression; assume the **listOstrings** argument will be a list of strings. Your function should return **True** if **pattern** matches all of the strings in the list."
   ]
  },
  {
   "cell_type": "code",
   "execution_count": 4,
   "metadata": {
    "collapsed": true
   },
   "outputs": [],
   "source": [
    "import re\n",
    "\n",
    "def matchAll(pattern, listOstrings):\n",
    "    return all([re.search(pattern, string) != None for string in listOstrings])"
   ]
  },
  {
   "cell_type": "markdown",
   "metadata": {},
   "source": [
    "#### Some Tests"
   ]
  },
  {
   "cell_type": "code",
   "execution_count": 2,
   "metadata": {
    "collapsed": false
   },
   "outputs": [
    {
     "name": "stdout",
     "output_type": "stream",
     "text": [
      "True\n",
      "False\n",
      "True\n",
      "True\n",
      "False\n"
     ]
    }
   ],
   "source": [
    "print(matchAll('a', ['a', 'ab', 'abc'])) # True\n",
    "print(matchAll('a', ['a', 'ab', 'bc']))  # False\n",
    "print(matchAll('(ab)?', ['a', 'ab', 'abc']))  # True\n",
    "print(matchAll('.', ['a', 'ab', 'abc']))      # True\n",
    "print(matchAll('.{2,3}', ['a', 'ab', 'abc'])) # False"
   ]
  },
  {
   "cell_type": "markdown",
   "metadata": {},
   "source": [
    "(2) Write a function, **matchNone(pattern, listOstrings)**, assuming the same type of arguments as the previous problem. Return True if the pattern does not match any one of the strings in the list."
   ]
  },
  {
   "cell_type": "code",
   "execution_count": 12,
   "metadata": {
    "collapsed": true
   },
   "outputs": [],
   "source": [
    "import re\n",
    "\n",
    "def matchNone(pattern, listOstrings):\n",
    "    return all([re.search(pattern, string) == None for string in listOstrings])"
   ]
  },
  {
   "cell_type": "markdown",
   "metadata": {},
   "source": [
    "#### Some Tests"
   ]
  },
  {
   "cell_type": "code",
   "execution_count": 17,
   "metadata": {
    "collapsed": false
   },
   "outputs": [
    {
     "name": "stdout",
     "output_type": "stream",
     "text": [
      "True\n",
      "--------------------------------------------------\n",
      "True\n",
      "--------------------------------------------------\n",
      "False\n",
      "--------------------------------------------------\n",
      "False\n",
      "--------------------------------------------------\n",
      "False\n",
      "--------------------------------------------------\n",
      "True\n"
     ]
    }
   ],
   "source": [
    "print(matchNone('c', ['b', 'ba', 'bab']))      # True\n",
    "print '-'*50\n",
    "print(matchNone('a', ['b', 'bb', 'bbb']))      # True\n",
    "print '-'*50\n",
    "print(matchNone('a', ['b', 'ba', 'bab']))      # False\n",
    "print '-'*50\n",
    "print(matchNone('(ab)?', ['a', 'ab', 'ac']))   # False\n",
    "print '-'*50\n",
    "print(matchNone('a{2,}', ['a', 'aa', 'abc']))  # False\n",
    "print '-'*50\n",
    "print(matchNone('a{2,3}', ['a', 'ab', 'abc'])) # True"
   ]
  },
  {
   "cell_type": "markdown",
   "metadata": {},
   "source": [
    "(3) Write a regular expression that matches the following words:\n",
    "\n",
    "        a, an, absh, apple, adsorb, apple99"
   ]
  },
  {
   "cell_type": "code",
   "execution_count": 18,
   "metadata": {
    "collapsed": false
   },
   "outputs": [
    {
     "data": {
      "text/plain": [
       "True"
      ]
     },
     "execution_count": 18,
     "metadata": {},
     "output_type": "execute_result"
    }
   ],
   "source": [
    "wordPattern = \"a\"\n",
    "matchAll(wordPattern, ['a', 'an', 'absh', 'appale', 'adsorb', 'apple99']) # True"
   ]
  },
  {
   "cell_type": "markdown",
   "metadata": {},
   "source": [
    "(4) Write a pattern that does not match the following words:\n",
    "        \n",
    "        can, fan, dan, ran, pan"
   ]
  },
  {
   "cell_type": "code",
   "execution_count": 20,
   "metadata": {
    "collapsed": false
   },
   "outputs": [
    {
     "name": "stdout",
     "output_type": "stream",
     "text": [
      "True\n",
      "True\n"
     ]
    }
   ],
   "source": [
    "wordPattern1 = '^(am)'## write your pattern here \n",
    "# Make this even simpler\n",
    "wordPattern2 = \"z\"\n",
    "print matchNone(wordPattern1, ['can', 'fan', 'dan', 'ran', 'pan']) # True\n",
    "print matchNone(wordPattern2, ['can', 'fan', 'dan', 'ran', 'pan']) # True"
   ]
  },
  {
   "cell_type": "markdown",
   "metadata": {},
   "source": [
    "(5) Write a regular expression that matches these three words: \n",
    "\n",
    "        - can, fan, dan\n",
    "        \n",
    "but **not** these three words: \n",
    "\n",
    "        - man, ran, pan"
   ]
  },
  {
   "cell_type": "code",
   "execution_count": 21,
   "metadata": {
    "collapsed": false
   },
   "outputs": [
    {
     "name": "stdout",
     "output_type": "stream",
     "text": [
      "True\n",
      "True\n",
      "True\n",
      "True\n"
     ]
    }
   ],
   "source": [
    "wordPattern = '^[cfd]+(an)$'\n",
    "wordPattern2 = \"[cfd]\"\n",
    "print matchAll(wordPattern, ['can', 'fan', 'dan']) # True\n",
    "print matchAll(wordPattern2, ['can', 'fan', 'dan']) # True\n",
    "print matchNone(wordPattern, ['man', 'ran', 'pan']) # True\n",
    "print matchNone(wordPattern2, ['man', 'ran', 'pan']) # True"
   ]
  },
  {
   "cell_type": "markdown",
   "metadata": {},
   "source": [
    "(6) Write a regular expression that matches these five words:\n",
    "\n",
    "        - pit, spot, spate, slap two, respite\n",
    "    \n",
    "but **not** these four words:\n",
    "\n",
    "        - pt, Pot, peat, part\n"
   ]
  },
  {
   "cell_type": "code",
   "execution_count": 23,
   "metadata": {
    "collapsed": false
   },
   "outputs": [
    {
     "name": "stdout",
     "output_type": "stream",
     "text": [
      "True\n",
      "True\n",
      "True\n",
      "True\n"
     ]
    }
   ],
   "source": [
    "wordPattern = 'p.t' # The word can start with any lower case letters. Then there can be any character between \"p\" and \"t\" and can end there or end with any additional characters.\n",
    "#re.search(wordPattern, 'Pot')\n",
    "wordPattern2 =\"p([a-z]|\\s)t\" # Find a pattern that starts with a \"p\" and ends with a \"t\"\n",
    "print matchAll(wordPattern, ['pit', 'spot', 'spate', 'slap two', 'respite']) # True\n",
    "print matchNone(wordPattern, ['pt', 'Pot', 'peat', 'part']) # True\n",
    "print matchAll(wordPattern2, ['pit', 'spot', 'spate', 'slap two', 'respite']) # True\n",
    "print matchNone(wordPattern2, ['pt', 'Pot', 'peat', 'part']) # True"
   ]
  },
  {
   "cell_type": "code",
   "execution_count": 26,
   "metadata": {
    "collapsed": false
   },
   "outputs": [
    {
     "name": "stdout",
     "output_type": "stream",
     "text": [
      "True\n",
      "True\n"
     ]
    }
   ],
   "source": [
    "wordPattern = '(ap).?t'## write your pattern here\n",
    "print matchAll(wordPattern, ['rap them', 'tapeth', 'apth', 'wrap/try', \\\n",
    "                             'sap tray', '87ap9th', 'apothecary']) # True\n",
    "print matchNone(wordPattern, ['aleht', 'happy them', 'tarpth', 'Apt', 'peth', \\\n",
    "                              'tarreth', 'ddapdg', 'apples', 'shape the']) # True"
   ]
  },
  {
   "cell_type": "markdown",
   "metadata": {},
   "source": [
    "# Part 2: NumPy"
   ]
  },
  {
   "cell_type": "markdown",
   "metadata": {},
   "source": [
    "## Array Creation\n",
    "Construct the following arrays without listing all of the elements. For example, you should use **np.ones(3)** to generate am array **array([1, 1, 1])** instead of **np.array([1, 1, 1])**."
   ]
  },
  {
   "cell_type": "markdown",
   "metadata": {},
   "source": [
    "(1) Construct an array of **float** ranging from 0-10."
   ]
  },
  {
   "cell_type": "code",
   "execution_count": 30,
   "metadata": {
    "collapsed": false
   },
   "outputs": [
    {
     "name": "stdout",
     "output_type": "stream",
     "text": [
      "[  0.   1.   2.   3.   4.   5.   6.   7.   8.   9.  10.]\n"
     ]
    }
   ],
   "source": [
    "## Write your code here.\n",
    "import numpy as np\n",
    "a1 = np.arange(11, dtype = float)\n",
    "print a1"
   ]
  },
  {
   "cell_type": "markdown",
   "metadata": {},
   "source": [
    "(2) Create an array containing 7 evenly spaced numbers between 0 and 23."
   ]
  },
  {
   "cell_type": "code",
   "execution_count": 31,
   "metadata": {
    "collapsed": false
   },
   "outputs": [
    {
     "name": "stdout",
     "output_type": "stream",
     "text": [
      "[  0.           3.83333333   7.66666667  11.5         15.33333333\n",
      "  19.16666667  23.        ]\n"
     ]
    }
   ],
   "source": [
    "## Write your code here.\n",
    "import numpy as np\n",
    "\n",
    "a2 = np.linspace(0, 23, 7)\n",
    "print a2"
   ]
  },
  {
   "cell_type": "markdown",
   "metadata": {},
   "source": [
    "(3) Create a 3x3 matrix with values ranging from 0 to 8."
   ]
  },
  {
   "cell_type": "code",
   "execution_count": 32,
   "metadata": {
    "collapsed": false
   },
   "outputs": [
    {
     "name": "stdout",
     "output_type": "stream",
     "text": [
      "[[0 1 2]\n",
      " [3 4 5]\n",
      " [6 7 8]]\n",
      "<class 'numpy.matrixlib.defmatrix.matrix'>\n"
     ]
    }
   ],
   "source": [
    "## Write your code here.\n",
    "from numpy import mat, matrix\n",
    "import numpy as np\n",
    "a1 = np.array(range(9))\n",
    "a2 = a1.reshape(3,3)\n",
    "m2 = mat(a2)\n",
    "print m2\n",
    "print type(m2)\n",
    "# Arrays vs. matrix\n",
    "# Arrays are good for element wise operations\n",
    "# When you get into working with data frames, they are built on top of these arrays. "
   ]
  },
  {
   "cell_type": "markdown",
   "metadata": {},
   "source": [
    "(4) Create a 5x5 matrix with row values ranging from 0 to 4.\n",
    "\n",
    "$$\\left[\n",
    "\\begin{array}{cc}\n",
    "0 & 1 & 2 & 3 & 4 \\\\\n",
    "0 & 1 & 2 & 3 & 4 \\\\\n",
    "0 & 1 & 2 & 3 & 4 \\\\\n",
    "0 & 1 & 2 & 3 & 4 \\\\\n",
    "0 & 1 & 2 & 3 & 4 \n",
    "\\end{array}\n",
    "\\right]$$"
   ]
  },
  {
   "cell_type": "code",
   "execution_count": 33,
   "metadata": {
    "collapsed": false
   },
   "outputs": [
    {
     "name": "stdout",
     "output_type": "stream",
     "text": [
      "[[ 0.  1.  2.  3.  4.]\n",
      " [ 0.  1.  2.  3.  4.]\n",
      " [ 0.  1.  2.  3.  4.]\n",
      " [ 0.  1.  2.  3.  4.]\n",
      " [ 0.  1.  2.  3.  4.]]\n",
      "[[0 1 2 3 4]\n",
      " [0 1 2 3 4]\n",
      " [0 1 2 3 4]\n",
      " [0 1 2 3 4]\n",
      " [0 1 2 3 4]]\n",
      "[[0 1 2 3 4]\n",
      " [0 1 2 3 4]\n",
      " [0 1 2 3 4]\n",
      " [0 1 2 3 4]\n",
      " [0 1 2 3 4]]\n"
     ]
    }
   ],
   "source": [
    "## Write your code here.\n",
    "import numpy as np\n",
    "\n",
    "matSize = 5\n",
    "m2 = np.zeros([matSize,matSize])\n",
    "\n",
    "for i in range(matSize):\n",
    "    m2[i] = range(matSize)\n",
    "\n",
    "print m2\n",
    "\n",
    "# another way to do this\n",
    "\n",
    "a = np.arange(5)\n",
    "m3 = np.mat([a, a, a, a, a])\n",
    "print m3\n",
    "\n",
    "# another way to do it\n",
    "# Make use of the modulo operator\n",
    "a2 = np.arange(25).reshape(5,5)%5\n",
    "print a2"
   ]
  },
  {
   "cell_type": "markdown",
   "metadata": {},
   "source": [
    "##Magic Matrices\n",
    "\n",
    "(5) A magic square is a matrix whose row sums, column sums, and the sums of the two diagonals are equal. (One diagonal of a matrix goes from the top left to the bottom right, the other diagonal goes from top right to bottom left.)\n",
    "\n",
    "Further more, a $n \\times n$ magic matrix is constructed by $(1, 2, 3 ... n^2)$. For example, here is a $3\\times 3$ magic array:\n",
    "$$\\left[\n",
    "\\begin{array}{cc}\n",
    "8 & 1 & 6 \\\\\n",
    "3 & 5 & 7 \\\\\n",
    "4 & 9 & 2\n",
    "\\end{array}\n",
    "\\right]$$\n",
    "\n",
    "Each number can only be used once.\n",
    "\n",
    "Write a function to check whether a matrix is a magic matrix. You should check these three properties:\n",
    "\n",
    "1. Is it a square matrix?\n",
    "2. Is it constructed by $(1, 2, 3, ... n^2)$?\n",
    "3. Are the sums of rows, columnsm, and diagnols the same? (Hint: the function **np.diag** may be useful)\n"
   ]
  },
  {
   "cell_type": "markdown",
   "metadata": {},
   "source": [
    "## (Hint: the function **np.diag** may be useful)"
   ]
  },
  {
   "cell_type": "code",
   "execution_count": 170,
   "metadata": {
    "collapsed": false
   },
   "outputs": [],
   "source": [
    "def isMagic(theArray):\n",
    "    # First, test to see if the matrix is 2-dimensional and square\n",
    "    test1 = (len(theArray == 2) and (theArray.shape[0] == theArray.shape[1])) # This tests to see if the matrix is square\n",
    "    # Second, test to see if the matrix is constructed by (1, 2, 3, ..., n^2) where n is the number of rows or columns.\n",
    "    # Create a test array to compare to the array\n",
    "    testArray = np.arange(theArray.shape[0]*theArray.shape[1]) + 1\n",
    "    test2 = np.array_equal(testArray, np.sort(theArray.reshape(1, theArray.shape[0]*theArray.shape[1]))[0])\n",
    "    # Lastly, test to see if the sum of all columns, rows and diagonals are the same\n",
    "    # Create a baseline sum from the first row for comparisons\n",
    "    baseline_sum = sum(theArray[0, :])\n",
    "    # Check the row sums\n",
    "    rowSum = np.all([sum(theArray[x, :]) for x in range(np.shape(theArray)[0])] == baseline_sum)\n",
    "    # Check the column sums\n",
    "    colSum = np.all([sum(theArray[:, x]) for x in range(np.shape(theArray)[0])] == baseline_sum)\n",
    "    # Check the sum of the diagonals\n",
    "    diagSum = sum(np.diag(theArray)) == baseline_sum\n",
    "    # Check the backwards diagonal sum\n",
    "    diagSum2 = sum(np.diag(np.fliplr(theArray))) == baseline_sum\n",
    "    test3 = rowSum and colSum and diagSum and diagSum2\n",
    "    return test1 and test2 and test3\n"
   ]
  },
  {
   "cell_type": "code",
   "execution_count": 171,
   "metadata": {
    "collapsed": false
   },
   "outputs": [
    {
     "name": "stdout",
     "output_type": "stream",
     "text": [
      "[[8 1 6]\n",
      " [3 5 7]\n",
      " [4 9 2]]\n"
     ]
    },
    {
     "data": {
      "text/plain": [
       "True"
      ]
     },
     "execution_count": 171,
     "metadata": {},
     "output_type": "execute_result"
    }
   ],
   "source": [
    "theArray = np.array([[8, 1, 6], [3, 5, 7], [4, 9, 2]])\n",
    "print theArray\n",
    "\n",
    "isMagic(theArray)"
   ]
  },
  {
   "cell_type": "markdown",
   "metadata": {},
   "source": [
    "### Some Tests"
   ]
  },
  {
   "cell_type": "code",
   "execution_count": 172,
   "metadata": {
    "collapsed": false
   },
   "outputs": [
    {
     "data": {
      "text/plain": [
       "False"
      ]
     },
     "execution_count": 172,
     "metadata": {},
     "output_type": "execute_result"
    }
   ],
   "source": [
    "test1 = np.array([[0, 1], \n",
    "                  [1, 0]]) \n",
    "isMagic(test1) # False"
   ]
  },
  {
   "cell_type": "code",
   "execution_count": 173,
   "metadata": {
    "collapsed": false
   },
   "outputs": [
    {
     "data": {
      "text/plain": [
       "True"
      ]
     },
     "execution_count": 173,
     "metadata": {},
     "output_type": "execute_result"
    }
   ],
   "source": [
    "test2 = np.array([[8, 1, 6],\n",
    "                  [3, 5, 7],\n",
    "                  [4, 9, 2]])\n",
    "isMagic(test2) # True"
   ]
  },
  {
   "cell_type": "code",
   "execution_count": 174,
   "metadata": {
    "collapsed": false
   },
   "outputs": [
    {
     "data": {
      "text/plain": [
       "True"
      ]
     },
     "execution_count": 174,
     "metadata": {},
     "output_type": "execute_result"
    }
   ],
   "source": [
    "test3 = np.array([[16, 2, 3, 13],\n",
    "                  [5, 11, 10, 8],\n",
    "                  [9,  7, 6, 12],\n",
    "                  [4, 14, 15, 1]]) \n",
    "isMagic(test3) # True"
   ]
  },
  {
   "cell_type": "code",
   "execution_count": 175,
   "metadata": {
    "collapsed": false
   },
   "outputs": [
    {
     "data": {
      "text/plain": [
       "True"
      ]
     },
     "execution_count": 175,
     "metadata": {},
     "output_type": "execute_result"
    }
   ],
   "source": [
    "test4 = np.array([[17, 24,  1,  8, 15],\n",
    "                  [23,  5,  7, 14, 16],\n",
    "                  [4,   6, 13, 20, 22],\n",
    "                  [10, 12, 19, 21,  3],\n",
    "                  [11, 18, 25, 2,   9]]) \n",
    "isMagic(test4) # True"
   ]
  },
  {
   "cell_type": "code",
   "execution_count": 176,
   "metadata": {
    "collapsed": false
   },
   "outputs": [
    {
     "data": {
      "text/plain": [
       "True"
      ]
     },
     "execution_count": 176,
     "metadata": {},
     "output_type": "execute_result"
    }
   ],
   "source": [
    "test5 = np.array([[35, 1, 6, 26, 19, 24],\n",
    "                  [3, 32, 7, 21, 23, 25],\n",
    "                  [31, 9, 2, 22, 27, 20],\n",
    "                  [8, 28, 33, 17, 10,15],\n",
    "                  [30, 5, 34, 12, 14,16],\n",
    "                  [4, 36, 29, 13, 18,11]])\n",
    "isMagic(test5) # True"
   ]
  }
 ],
 "metadata": {
  "kernelspec": {
   "display_name": "Python 2",
   "language": "python",
   "name": "python2"
  },
  "language_info": {
   "codemirror_mode": {
    "name": "ipython",
    "version": 2
   },
   "file_extension": ".py",
   "mimetype": "text/x-python",
   "name": "python",
   "nbconvert_exporter": "python",
   "pygments_lexer": "ipython2",
   "version": "2.7.12"
  }
 },
 "nbformat": 4,
 "nbformat_minor": 0
}
